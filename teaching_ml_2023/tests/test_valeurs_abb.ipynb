{
 "cells": [
  {
   "cell_type": "code",
   "execution_count": 49,
   "id": "e51ca096-a00d-44ac-95ae-b111c58312c8",
   "metadata": {},
   "outputs": [],
   "source": [
    "import numpy as np\n",
    "import pandas as pd\n",
    "from sklearn.preprocessing import StandardScaler\n",
    "from sklearn.cluster import DBSCAN\n",
    "from sklearn.ensemble import IsolationForest\n",
    "\n",
    "def manage_outliers(data, method='StandardScaler', threshold=3, strategy='median'):\n",
    "    \"\"\"\n",
    "    ---------------------------------------------------------------\n",
    "    Goal:\n",
    "    Detects and manages outliers in a dataset using various methods.\n",
    "    ---------------------------------------------------------------\n",
    "    Parameters:\n",
    "    -----------\n",
    "    data : pandas.DataFrame or numpy.ndarray\n",
    "        The dataset to manage outliers for.\n",
    "    method : str, optional (default='StandardScaler')\n",
    "        The method to use for outlier detection. Can be one of:\n",
    "            - 'StandardScaler': Uses the StandardScaler method to scale the data and \n",
    "               then uses the z-score method based on the standard deviation.\n",
    "            - 'DBSCAN': Uses the DBSCAN clustering algorithm to identify outliers.\n",
    "            - 'IsolationForest': Uses the Isolation Forest algorithm to identify outliers.\n",
    "    threshold : float, optional (default=3)\n",
    "        The threshold used to determine outliers. \n",
    "        Values above or below this threshold are considered outliers.\n",
    "    strategy : str, optional (default='median')\n",
    "        The strategy used to manage outliers. Can be one of:\n",
    "            - 'median': Replaces outliers with the median value of the feature.\n",
    "            - 'mean': Replaces outliers with the mean value of the feature.\n",
    "    ----------------------------------------------------------------------\n",
    "    Returns:\n",
    "    --------\n",
    "    pandas.DataFrame\n",
    "        The cleaned dataset with outliers managed.\n",
    "    \"\"\"\n",
    "    # Scaling the data if method is StandardScaler\n",
    "    if method == 'StandardScaler':\n",
    "        scaler = StandardScaler()\n",
    "        data = scaler.fit_transform(data)\n",
    "\n",
    "    # Detecting outliers using the selected method\n",
    "    if method == 'StandardScaler':\n",
    "        z_scores = np.abs(data)\n",
    "        outliers = np.where(z_scores > threshold)\n",
    "    elif method == 'DBSCAN':\n",
    "        dbscan = DBSCAN(eps=threshold, min_samples=2)\n",
    "        outliers = dbscan.fit_predict(data) == -1\n",
    "    elif method == 'IsolationForest':\n",
    "        iso_forest = IsolationForest(contamination=threshold)\n",
    "        outliers = iso_forest.fit_predict(data) == -1\n",
    "\n",
    "    # Managing outliers using the selected strategy\n",
    "    if strategy == 'median':\n",
    "        replacements = np.median(data, axis=0)\n",
    "    elif strategy == 'mean':\n",
    "        replacements = np.mean(data, axis=0)\n",
    "\n",
    "    data[outliers] = replacements\n",
    "\n",
    "    # Returning the cleaned data\n",
    "    if method == 'StandardScaler':\n",
    "        data = scaler.inverse_transform(data)\n",
    "    return pd.DataFrame(data)\n"
   ]
  },
  {
   "cell_type": "code",
   "execution_count": 50,
   "id": "09b70f78-dc46-4439-9866-48b6c3acf633",
   "metadata": {},
   "outputs": [
    {
     "name": "stdout",
     "output_type": "stream",
     "text": [
      "Original Dataframe:\n",
      "            A          B           C\n",
      "0   1.000000   2.000000    5.000000\n",
      "1   2.000000   4.000000   10.000000\n",
      "2   3.000000   6.000000   15.000000\n",
      "3   4.000000   8.000000   20.000000\n",
      "4   5.000000  10.000000   25.000000\n",
      "5  19.166667  38.333333  179.166667\n",
      "\n",
      "Cleaned Dataframe:\n",
      "            A          B           C\n",
      "0   1.000000   2.000000    5.000000\n",
      "1   2.000000   4.000000   10.000000\n",
      "2   3.000000   6.000000   15.000000\n",
      "3   4.000000   8.000000   20.000000\n",
      "4   5.000000  10.000000   25.000000\n",
      "5  19.166667  38.333333  179.166667\n"
     ]
    },
    {
     "name": "stderr",
     "output_type": "stream",
     "text": [
      "C:\\Users\\Fnac\\anaconda3\\lib\\site-packages\\sklearn\\base.py:450: UserWarning: X does not have valid feature names, but IsolationForest was fitted with feature names\n",
      "  warnings.warn(\n"
     ]
    }
   ],
   "source": [
    "# Creating a simple dataframe with some outliers\n",
    "df = pd.DataFrame({\n",
    "    'A': [1, 2, 3, 4, 5, 100],\n",
    "    'B': [2, 4, 6, 8, 10, 200],\n",
    "    'C': [5, 10, 15, 20, 25, 1000]\n",
    "})\n",
    "\n",
    "# Using the manage_outliers() function to clean the dataframe\n",
    "clean_df = manage_outliers(df, method='IsolationForest', threshold=0.05, strategy='mean')\n",
    "\n",
    "# Printing the original dataframe and the cleaned dataframe\n",
    "print(\"Original Dataframe:\\n\", df)\n",
    "print(\"\\nCleaned Dataframe:\\n\", clean_df)\n"
   ]
  },
  {
   "cell_type": "code",
   "execution_count": null,
   "id": "3de08f61-2c3f-4d76-be48-8dd21849c413",
   "metadata": {},
   "outputs": [],
   "source": []
  }
 ],
 "metadata": {
  "kernelspec": {
   "display_name": "Python 3 (ipykernel)",
   "language": "python",
   "name": "python3"
  },
  "language_info": {
   "codemirror_mode": {
    "name": "ipython",
    "version": 3
   },
   "file_extension": ".py",
   "mimetype": "text/x-python",
   "name": "python",
   "nbconvert_exporter": "python",
   "pygments_lexer": "ipython3",
   "version": "3.9.13"
  }
 },
 "nbformat": 4,
 "nbformat_minor": 5
}
