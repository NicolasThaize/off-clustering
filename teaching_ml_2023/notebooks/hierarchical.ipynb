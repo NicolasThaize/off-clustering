{
 "cells": [
  {
   "cell_type": "code",
   "execution_count": null,
   "metadata": {},
   "outputs": [],
   "source": [
    "import pandas as pd\n",
    "import numpy as np\n",
    "import matplotlib.pyplot as plt\n",
    "from sklearn.cluster import AgglomerativeClustering\n",
    "from sklearn.preprocessing import StandardScaler\n",
    "from sklearn.decomposition import PCA\n",
    "from sklearn.neighbors import kneighbors_graph\n",
    "\n",
    "# Charger le fichier CSV dans un DataFrame\n",
    "df = pd.read_csv('../data/en.openfoodfacts.org.products.csv', delimiter='\\t',  nrows=100000, low_memory=False)\n",
    "\n",
    "# Sélectionner les colonnes numériques\n",
    "numeric_cols = df.select_dtypes('number')\n",
    "\n",
    "# Supprimer les lignes avec des valeurs manquantes\n",
    "df.dropna(subset=numeric_cols, inplace=True)\n",
    "# ou remplacer les valeurs manquantes par zéro\n",
    "# df[numeric_cols] = df[numeric_cols].fillna(0)\n",
    "\n",
    "# Appliquer la normalisation aux colonnes numériques\n",
    "scaler = StandardScaler()\n",
    "df[numeric_cols] = scaler.fit_transform(df[numeric_cols])\n",
    "\n",
    "# Réduire la dimensionnalité à l'aide de PCA\n",
    "pca = PCA(n_components=50)\n",
    "reduced_data = pca.fit_transform(df[numeric_cols])\n",
    "\n",
    "# Appliquer le clustering hiérarchique\n",
    "connectivity = kneighbors_graph(reduced_data, n_neighbors=10, include_self=False)\n",
    "agg_clustering = AgglomerativeClustering(n_clusters=3, connectivity=connectivity)\n",
    "labels = agg_clustering.fit_predict(reduced_data)\n",
    "\n",
    "# Réduire la dimensionnalité pour visualiser les résultats\n",
    "pca = PCA(n_components=2)\n",
    "pca_df = pd.DataFrame(pca.fit_transform(reduced_data), columns=['PCA1', 'PCA2'])\n",
    "\n",
    "# Afficher les résultats pour Hierarchical Clustering avec connectivité\n",
    "pca_df['labels'] = labels\n",
    "plt.scatter(pca_df['PCA1'], pca_df['PCA2'], c=labels, cmap='viridis')\n",
    "plt.show()"
   ]
  }
 ],
 "metadata": {
  "kernelspec": {
   "display_name": "BFC",
   "language": "python",
   "name": "bfc"
  },
  "language_info": {
   "codemirror_mode": {
    "name": "ipython",
    "version": 3
   },
   "file_extension": ".py",
   "mimetype": "text/x-python",
   "name": "python",
   "nbconvert_exporter": "python",
   "pygments_lexer": "ipython3",
   "version": "3.9.12"
  },
  "orig_nbformat": 4
 },
 "nbformat": 4,
 "nbformat_minor": 2
}
